{
 "cells": [
  {
   "cell_type": "code",
   "execution_count": 1,
   "metadata": {},
   "outputs": [
    {
     "data": {
      "text/plain": [
       "'decision_tree_play.pdf'"
      ]
     },
     "execution_count": 1,
     "metadata": {},
     "output_type": "execute_result"
    }
   ],
   "source": [
    "from sklearn.tree import DecisionTreeClassifier\n",
    "from sklearn import tree\n",
    "import pandas as pd\n",
    "import graphviz\n",
    "import os\n",
    "import matplotlib.pyplot as plt\n",
    "os.environ[\"PATH\"] += os.pathsep + 'C:/Program Files/Graphviz/bin'\n",
    "# 创建数据集\n",
    "data = {\n",
    "    'Temperature': [20, 25, 30, 15, 10, 0, 5, 35, 40, 18],\n",
    "    'Is_raining': [0, 0, 0, 1, 1, 1, 0, 0, 0, 1],\n",
    "    'Wind_speed': [5, 10, 15, 5, 10, 20, 5, 15, 20, 10],\n",
    "    'Humidity': [30, 40, 50, 20, 10, 80, 30, 60, 70, 90],\n",
    "    'Play': [1, 1, 1, 0, 0, 0, 1, 1, 0, 0]\n",
    "}\n",
    "    \n",
    "# 创建 DataFrame\n",
    "df = pd.DataFrame(data)\n",
    "\n",
    "# 定义特征和目标变量\n",
    "X = df[['Temperature', 'Is_raining', 'Wind_speed', 'Humidity']]\n",
    "y = df['Play']\n",
    "# 创建决策树模型\n",
    "model = DecisionTreeClassifier()\n",
    "\n",
    "# 训练模型\n",
    "model.fit(X, y)\n",
    "\n",
    "# 可视化决策树\n",
    "dot_data = tree.export_graphviz(model, out_file=None, \n",
    "                                feature_names=['Temperature', 'Is_raining', 'Wind_speed', 'Humidity'],  \n",
    "                                class_names=['Not Play', 'Play'],  \n",
    "                                filled=True, rounded=True,  \n",
    "                                special_characters=True)  \n",
    "\n",
    "graph = graphviz.Source(dot_data)\n",
    "\n",
    "# 保存决策树图像\n",
    "graph.render(\"decision_tree_play\")\n",
    "\n",
    "# 显示决策树图像\n",
    "graph.view()\n"
   ]
  }
 ],
 "metadata": {
  "kernelspec": {
   "display_name": "deep",
   "language": "python",
   "name": "python3"
  },
  "language_info": {
   "codemirror_mode": {
    "name": "ipython",
    "version": 3
   },
   "file_extension": ".py",
   "mimetype": "text/x-python",
   "name": "python",
   "nbconvert_exporter": "python",
   "pygments_lexer": "ipython3",
   "version": "3.10.0"
  }
 },
 "nbformat": 4,
 "nbformat_minor": 2
}
